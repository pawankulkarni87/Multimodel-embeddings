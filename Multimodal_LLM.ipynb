{
 "cells": [
  {
   "cell_type": "code",
   "execution_count": 2,
   "id": "c304b2a2-4786-4dd2-a98f-29b8a3e26235",
   "metadata": {},
   "outputs": [
    {
     "name": "stdout",
     "output_type": "stream",
     "text": [
      "Collecting ollama\n",
      "  Using cached ollama-0.5.1-py3-none-any.whl.metadata (4.3 kB)\n",
      "Requirement already satisfied: httpx>=0.27 in c:\\users\\kulka\\anaconda3\\lib\\site-packages (from ollama) (0.27.0)\n",
      "Collecting pydantic>=2.9 (from ollama)\n",
      "  Downloading pydantic-2.11.7-py3-none-any.whl.metadata (67 kB)\n",
      "Requirement already satisfied: anyio in c:\\users\\kulka\\anaconda3\\lib\\site-packages (from httpx>=0.27->ollama) (4.2.0)\n",
      "Requirement already satisfied: certifi in c:\\users\\kulka\\anaconda3\\lib\\site-packages (from httpx>=0.27->ollama) (2024.8.30)\n",
      "Requirement already satisfied: httpcore==1.* in c:\\users\\kulka\\anaconda3\\lib\\site-packages (from httpx>=0.27->ollama) (1.0.2)\n",
      "Requirement already satisfied: idna in c:\\users\\kulka\\anaconda3\\lib\\site-packages (from httpx>=0.27->ollama) (3.7)\n",
      "Requirement already satisfied: sniffio in c:\\users\\kulka\\anaconda3\\lib\\site-packages (from httpx>=0.27->ollama) (1.3.0)\n",
      "Requirement already satisfied: h11<0.15,>=0.13 in c:\\users\\kulka\\anaconda3\\lib\\site-packages (from httpcore==1.*->httpx>=0.27->ollama) (0.14.0)\n",
      "Requirement already satisfied: annotated-types>=0.6.0 in c:\\users\\kulka\\anaconda3\\lib\\site-packages (from pydantic>=2.9->ollama) (0.6.0)\n",
      "Collecting pydantic-core==2.33.2 (from pydantic>=2.9->ollama)\n",
      "  Using cached pydantic_core-2.33.2-cp312-cp312-win_amd64.whl.metadata (6.9 kB)\n",
      "Requirement already satisfied: typing-extensions>=4.12.2 in c:\\users\\kulka\\anaconda3\\lib\\site-packages (from pydantic>=2.9->ollama) (4.13.2)\n",
      "Requirement already satisfied: typing-inspection>=0.4.0 in c:\\users\\kulka\\anaconda3\\lib\\site-packages (from pydantic>=2.9->ollama) (0.4.1)\n",
      "Using cached ollama-0.5.1-py3-none-any.whl (13 kB)\n",
      "Downloading pydantic-2.11.7-py3-none-any.whl (444 kB)\n",
      "Using cached pydantic_core-2.33.2-cp312-cp312-win_amd64.whl (2.0 MB)\n",
      "Installing collected packages: pydantic-core, pydantic, ollama\n",
      "  Attempting uninstall: pydantic-core\n",
      "    Found existing installation: pydantic_core 2.20.1\n",
      "    Uninstalling pydantic_core-2.20.1:\n",
      "      Successfully uninstalled pydantic_core-2.20.1\n",
      "  Attempting uninstall: pydantic\n",
      "    Found existing installation: pydantic 2.8.2\n",
      "    Uninstalling pydantic-2.8.2:\n",
      "      Successfully uninstalled pydantic-2.8.2\n",
      "Successfully installed ollama-0.5.1 pydantic-2.11.7 pydantic-core-2.33.2\n",
      "Note: you may need to restart the kernel to use updated packages.\n"
     ]
    }
   ],
   "source": [
    "pip install ollama"
   ]
  },
  {
   "cell_type": "code",
   "execution_count": 3,
   "id": "d3bab80f-e58a-4db9-9b40-919919087e5b",
   "metadata": {},
   "outputs": [],
   "source": [
    "import ollama"
   ]
  },
  {
   "cell_type": "code",
   "execution_count": 16,
   "id": "08c46075-6357-41b0-ba5e-89bd675c2122",
   "metadata": {},
   "outputs": [
    {
     "data": {
      "text/plain": [
       "ProgressResponse(status='success', completed=None, total=None, digest=None)"
      ]
     },
     "execution_count": 16,
     "metadata": {},
     "output_type": "execute_result"
    }
   ],
   "source": [
    "ollama.pull('llava:7b')"
   ]
  },
  {
   "cell_type": "code",
   "execution_count": 17,
   "id": "c14e517f-859b-4d9b-9ac3-0e973d3ed445",
   "metadata": {},
   "outputs": [],
   "source": [
    "image_path=r'D:\\Saved Pictures\\KSEC.png'"
   ]
  },
  {
   "cell_type": "code",
   "execution_count": 18,
   "id": "51b37095-0ced-43a8-83d0-7849d3a53745",
   "metadata": {},
   "outputs": [],
   "source": [
    "import base64"
   ]
  },
  {
   "cell_type": "code",
   "execution_count": 19,
   "id": "f4fa7bb5-5e72-4ed1-aea5-7be60cc0bf3c",
   "metadata": {},
   "outputs": [],
   "source": [
    "try:\n",
    "    with open(image_path, \"rb\") as image_file:\n",
    "        image_base64 = base64.b64encode(image_file.read()).decode('utf-8')\n",
    "except FileNotFoundError:\n",
    "    raise ValueError(f\"File {image_path} does not exist\")"
   ]
  },
  {
   "cell_type": "code",
   "execution_count": 20,
   "id": "8f40d853-77dc-4c6e-ab30-17459e668c9c",
   "metadata": {},
   "outputs": [
    {
     "name": "stdout",
     "output_type": "stream",
     "text": [
      " The image displays a collection of three icons, each representing a different financial or investment entity. From left to right:\n",
      "\n",
      "1. **Kotak Securities** - This icon features the logo of Kotak Securities, which is a part of the Kotak Mahindra Group and offers services in equity, debt, and mutual funds.\n",
      "\n",
      "2. **IG Markets** - The second icon shows IG Markets, which provides access to global trading opportunities for retail clients across forex, indices, commodities, shares, ETFs, and cryptocurrencies.\n",
      "\n",
      "3. **NSE Nifty Index** - This icon represents the National Stock Exchange of India (NSE) and its index Nifty, which is a stock market index that comprises the largest 50 companies listed on the NSE by full market capitalization.\n",
      "\n",
      "The overall theme suggests a focus on investment and trading platforms. \n"
     ]
    }
   ],
   "source": [
    "response = ollama.chat(\n",
    "    model='llava:7b',\n",
    "    messages=[{\n",
    "        'role': 'user',\n",
    "        'content': 'What is in this image?',\n",
    "        'images':[image_base64]\n",
    "    }]\n",
    ")\n",
    "\n",
    "print(response['message']['content'])"
   ]
  },
  {
   "cell_type": "code",
   "execution_count": 21,
   "id": "7635377f-a7db-4af1-9580-c0d3e97058bc",
   "metadata": {},
   "outputs": [
    {
     "name": "stdout",
     "output_type": "stream",
     "text": [
      "Collecting pymupdf\n",
      "  Downloading pymupdf-1.26.1-cp39-abi3-win_amd64.whl.metadata (3.4 kB)\n",
      "Downloading pymupdf-1.26.1-cp39-abi3-win_amd64.whl (18.5 MB)\n",
      "   ---------------------------------------- 0.0/18.5 MB ? eta -:--:--\n",
      "   ---- ----------------------------------- 2.1/18.5 MB 13.0 MB/s eta 0:00:02\n",
      "   --------- ------------------------------ 4.5/18.5 MB 11.2 MB/s eta 0:00:02\n",
      "   ---------- ----------------------------- 5.0/18.5 MB 9.1 MB/s eta 0:00:02\n",
      "   ----------- ---------------------------- 5.2/18.5 MB 7.8 MB/s eta 0:00:02\n",
      "   ------------ --------------------------- 5.8/18.5 MB 5.6 MB/s eta 0:00:03\n",
      "   ------------- -------------------------- 6.0/18.5 MB 5.2 MB/s eta 0:00:03\n",
      "   ------------- -------------------------- 6.3/18.5 MB 4.3 MB/s eta 0:00:03\n",
      "   -------------- ------------------------- 6.6/18.5 MB 4.1 MB/s eta 0:00:03\n",
      "   -------------- ------------------------- 6.8/18.5 MB 3.9 MB/s eta 0:00:03\n",
      "   --------------- ------------------------ 7.1/18.5 MB 3.5 MB/s eta 0:00:04\n",
      "   --------------- ------------------------ 7.3/18.5 MB 3.2 MB/s eta 0:00:04\n",
      "   ---------------- ----------------------- 7.9/18.5 MB 3.2 MB/s eta 0:00:04\n",
      "   ------------------ --------------------- 8.4/18.5 MB 3.1 MB/s eta 0:00:04\n",
      "   ------------------- -------------------- 8.9/18.5 MB 3.1 MB/s eta 0:00:04\n",
      "   -------------------- ------------------- 9.7/18.5 MB 3.1 MB/s eta 0:00:03\n",
      "   ----------------------- ---------------- 11.0/18.5 MB 3.3 MB/s eta 0:00:03\n",
      "   --------------------------- ------------ 12.8/18.5 MB 3.6 MB/s eta 0:00:02\n",
      "   ------------------------------ --------- 14.2/18.5 MB 3.8 MB/s eta 0:00:02\n",
      "   -------------------------------- ------- 15.2/18.5 MB 3.9 MB/s eta 0:00:01\n",
      "   ----------------------------------- ---- 16.5/18.5 MB 4.0 MB/s eta 0:00:01\n",
      "   ------------------------------------ --- 16.8/18.5 MB 3.9 MB/s eta 0:00:01\n",
      "   ------------------------------------- -- 17.6/18.5 MB 3.9 MB/s eta 0:00:01\n",
      "   ---------------------------------------  18.4/18.5 MB 3.9 MB/s eta 0:00:01\n",
      "   ---------------------------------------- 18.5/18.5 MB 3.8 MB/s eta 0:00:00\n",
      "Installing collected packages: pymupdf\n",
      "Successfully installed pymupdf-1.26.1\n",
      "Note: you may need to restart the kernel to use updated packages.\n"
     ]
    }
   ],
   "source": [
    "pip install pymupdf"
   ]
  },
  {
   "cell_type": "code",
   "execution_count": 22,
   "id": "b159b3f2-434d-4a55-b7c6-57a43cb57d3e",
   "metadata": {},
   "outputs": [],
   "source": [
    "import fitz"
   ]
  },
  {
   "cell_type": "code",
   "execution_count": 32,
   "id": "80def7ce-e373-463c-9747-83e0f15c0cda",
   "metadata": {},
   "outputs": [
    {
     "name": "stdout",
     "output_type": "stream",
     "text": [
      "Requirement already satisfied: pillow in c:\\users\\kulka\\anaconda3\\lib\\site-packages (10.4.0)Note: you may need to restart the kernel to use updated packages.\n",
      "\n",
      "Requirement already satisfied: pytesseract in c:\\users\\kulka\\anaconda3\\lib\\site-packages (0.3.13)\n",
      "Collecting deep-translator\n",
      "  Downloading deep_translator-1.11.4-py3-none-any.whl.metadata (30 kB)\n",
      "Requirement already satisfied: packaging>=21.3 in c:\\users\\kulka\\anaconda3\\lib\\site-packages (from pytesseract) (24.1)\n",
      "Requirement already satisfied: beautifulsoup4<5.0.0,>=4.9.1 in c:\\users\\kulka\\anaconda3\\lib\\site-packages (from deep-translator) (4.12.3)\n",
      "Requirement already satisfied: requests<3.0.0,>=2.23.0 in c:\\users\\kulka\\anaconda3\\lib\\site-packages (from deep-translator) (2.32.3)\n",
      "Requirement already satisfied: soupsieve>1.2 in c:\\users\\kulka\\anaconda3\\lib\\site-packages (from beautifulsoup4<5.0.0,>=4.9.1->deep-translator) (2.5)\n",
      "Requirement already satisfied: charset-normalizer<4,>=2 in c:\\users\\kulka\\anaconda3\\lib\\site-packages (from requests<3.0.0,>=2.23.0->deep-translator) (3.3.2)\n",
      "Requirement already satisfied: idna<4,>=2.5 in c:\\users\\kulka\\anaconda3\\lib\\site-packages (from requests<3.0.0,>=2.23.0->deep-translator) (3.7)\n",
      "Requirement already satisfied: urllib3<3,>=1.21.1 in c:\\users\\kulka\\anaconda3\\lib\\site-packages (from requests<3.0.0,>=2.23.0->deep-translator) (2.2.3)\n",
      "Requirement already satisfied: certifi>=2017.4.17 in c:\\users\\kulka\\anaconda3\\lib\\site-packages (from requests<3.0.0,>=2.23.0->deep-translator) (2024.8.30)\n",
      "Downloading deep_translator-1.11.4-py3-none-any.whl (42 kB)\n",
      "Installing collected packages: deep-translator\n",
      "Successfully installed deep-translator-1.11.4\n"
     ]
    }
   ],
   "source": [
    "pip install pillow pytesseract deep-translator"
   ]
  },
  {
   "cell_type": "code",
   "execution_count": 41,
   "id": "9585cbbe-34f8-446a-ad75-463cec0877a3",
   "metadata": {},
   "outputs": [],
   "source": [
    "pdf_path=r'C:\\Users\\kulka\\OneDrive\\Documents\\lightpage1.pdf'\n",
    "doc = fitz.open(pdf_path)"
   ]
  },
  {
   "cell_type": "code",
   "execution_count": 34,
   "id": "06c561ec-8177-4e02-b012-2d18921db869",
   "metadata": {},
   "outputs": [
    {
     "name": "stdout",
     "output_type": "stream",
     "text": [
      "Requirement already satisfied: tesseract in c:\\users\\kulka\\anaconda3\\lib\\site-packages (0.1.3)Note: you may need to restart the kernel to use updated packages.\n",
      "\n"
     ]
    }
   ],
   "source": [
    "pip install tesseract"
   ]
  },
  {
   "cell_type": "code",
   "execution_count": 37,
   "id": "4b5c8161-be25-420b-bbc6-607b7ad507de",
   "metadata": {},
   "outputs": [],
   "source": [
    "from PIL import Image\n",
    "import pytesseract\n",
    "from deep_translator import GoogleTranslator\n",
    "import io"
   ]
  },
  {
   "cell_type": "code",
   "execution_count": 43,
   "id": "88c93cc0-5a18-4e53-8ed0-de5fe60c790d",
   "metadata": {},
   "outputs": [],
   "source": [
    "images_base64 = []\n",
    "\n",
    "for page_num in range(len(doc)):\n",
    "    pix = doc.load_page(page_num).get_pixmap(dpi=150)\n",
    "    img_bytes = pix.tobytes(\"png\")\n",
    "    image_b64 = base64.b64encode(img_bytes).decode(\"utf-8\")\n",
    "    images_base64.append(image_b64)\n",
    "\n",
    "doc.close()"
   ]
  },
  {
   "cell_type": "code",
   "execution_count": 44,
   "id": "619cb89b-30c8-4257-b798-45ebbabc5274",
   "metadata": {},
   "outputs": [
    {
     "name": "stdout",
     "output_type": "stream",
     "text": [
      " The image you've shared appears to be a document or a page with various elements. At the top, there is text in Bengali which seems to be related to an official record or form. Below that, there are some numbers and a bar graph, which might represent data from a survey or a report. The bar graph shows three distinct bars, each of equal height.\n",
      "\n",
      "The body of the document contains more Bengali text, suggesting it's part of an official document such as a certificate or a receipt. At the bottom, there is a red stamp and a signature, which are commonly used to validate or authenticate documents in certain cultures and regions. The presence of these elements suggests that this document is likely related to some form of legal process or official record, possibly related to government or organizational procedures. \n"
     ]
    }
   ],
   "source": [
    "response = ollama.chat(\n",
    "    model=\"llava:7b\",\n",
    "    messages=[\n",
    "        {\n",
    "            \"role\": \"user\",\n",
    "            \"content\": \"Summarize this page\",\n",
    "            \"images\": [images_base64[0]]  # You can loop for all pages if needed\n",
    "        }\n",
    "    ]\n",
    ")\n",
    "\n",
    "print(response[\"message\"][\"content\"])"
   ]
  },
  {
   "cell_type": "code",
   "execution_count": null,
   "id": "3ab6f20e-ccb8-4221-ad4a-05eda8b17211",
   "metadata": {},
   "outputs": [],
   "source": []
  },
  {
   "cell_type": "code",
   "execution_count": null,
   "id": "3501f960-eda6-4cc9-8844-3663b2152a63",
   "metadata": {},
   "outputs": [],
   "source": []
  },
  {
   "cell_type": "code",
   "execution_count": null,
   "id": "c5bfada5-ca7e-434e-9ef1-8b3aa3b6cc02",
   "metadata": {},
   "outputs": [],
   "source": []
  }
 ],
 "metadata": {
  "kernelspec": {
   "display_name": "Python 3 (ipykernel)",
   "language": "python",
   "name": "python3"
  },
  "language_info": {
   "codemirror_mode": {
    "name": "ipython",
    "version": 3
   },
   "file_extension": ".py",
   "mimetype": "text/x-python",
   "name": "python",
   "nbconvert_exporter": "python",
   "pygments_lexer": "ipython3",
   "version": "3.12.7"
  }
 },
 "nbformat": 4,
 "nbformat_minor": 5
}
